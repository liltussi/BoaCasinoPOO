{
  "nbformat": 4,
  "nbformat_minor": 0,
  "metadata": {
    "colab": {
      "provenance": [],
      "authorship_tag": "ABX9TyMblV6aeWLjl5FWCjChHhMd",
      "include_colab_link": true
    },
    "kernelspec": {
      "name": "python3",
      "display_name": "Python 3"
    },
    "language_info": {
      "name": "python"
    }
  },
  "cells": [
    {
      "cell_type": "markdown",
      "metadata": {
        "id": "view-in-github",
        "colab_type": "text"
      },
      "source": [
        "<a href=\"https://colab.research.google.com/github/liltussi/BoaCasinoPOO/blob/main/Silvera_Sebastian_Laboratorio1.ipynb\" target=\"_parent\"><img src=\"https://colab.research.google.com/assets/colab-badge.svg\" alt=\"Open In Colab\"/></a>"
      ]
    },
    {
      "cell_type": "markdown",
      "source": [
        "Laboratorio 1 - Estructuras discretas"
      ],
      "metadata": {
        "id": "gf7IJwdJDwxy"
      }
    },
    {
      "cell_type": "code",
      "source": [
        "class Graph:\n",
        "    VISITED = 1\n",
        "    UNVISITED = -1\n",
        "\n",
        "    def __init__(self,n):\n",
        "        self.n = n\n",
        "        self.adj = [[] for _ in range(self.n)]  # Lista de adyacencia para representar el grafo\n",
        "        self.dfs_state = [Graph.UNVISITED for _ in range(self.n)]  # Estado de DFS para cada nodo\n",
        "\n",
        "    def add_edge(self, a, b):\n",
        "        self.adj[a].append(b)  # Agrega la arista de a a b\n",
        "        self.adj[b].append(a)  # Agrega la arista de b a a (bidireccional)\n",
        "\n",
        "    def dfs(self,i):\n",
        "        self.dfs_state[i] = Graph.VISITED  # Marca el nodo como visitado\n",
        "        for j in self.adj[i]:  # Recorre los nodos adyacentes al nodo actual\n",
        "            if self.dfs_state[j] == Graph.UNVISITED:  # Si el nodo adyacente no ha sido visitado\n",
        "                self.dfs(j)  # Realiza una búsqueda en profundidad desde ese nodo\n",
        "\n",
        "    def is_reachable(self, source, target):\n",
        "        self.dfs_state = [Graph.UNVISITED for _ in range(self.n)]  # Reinicia el estado de DFS\n",
        "        self.dfs(source)  # Realiza una búsqueda en profundidad desde el nodo fuente\n",
        "        return self.dfs_state[target] == Graph.VISITED  # Verifica si el nodo objetivo es alcanzable\n",
        "\n",
        "    def is_a_tree(self):\n",
        "        # Un grafo es un árbol si tiene exactamente n-1 aristas y es conexo\n",
        "        return self.is_connected() and self.num_edges() == self.n - 1\n",
        "\n",
        "    def is_connected(self):\n",
        "        # Realiza un recorrido DFS desde el primer nodo y verifica si todos los nodos son alcanzables\n",
        "        self.dfs_state = [Graph.UNVISITED for _ in range(self.n)]\n",
        "        self.dfs(0)\n",
        "        return all(state == Graph.VISITED for state in self.dfs_state)\n",
        "\n",
        "    def num_edges(self):\n",
        "        # Cuenta el número total de aristas en el grafo\n",
        "        return sum(len(adj_list) for adj_list in self.adj) // 2  # Dividido por 2 porque cada arista se cuenta dos veces\n",
        "\n",
        "# Contenido de los archivos de texto\n",
        "graph1_content = \"\"\"8 7\n",
        "0 1\n",
        "0 2\n",
        "1 3\n",
        "1 4\n",
        "2 5\n",
        "5 6\n",
        "5 7\"\"\"\n",
        "\n",
        "graph2_content = \"\"\"7 5\n",
        "0 1\n",
        "0 2\n",
        "1 3\n",
        "1 4\n",
        "5 6\"\"\"\n",
        "\n",
        "graph3_content = \"\"\"8 7\n",
        "0 1\n",
        "0 2\n",
        "1 2\n",
        "1 3\n",
        "2 3\n",
        "2 4\n",
        "5 6\"\"\"\n",
        "\n",
        "# Lista de contenidos de los archivos\n",
        "file_contents = [graph1_content, graph2_content, graph3_content]\n",
        "\n",
        "# Procesamiento de los contenidos de los archivos\n",
        "for i, content in enumerate(file_contents):\n",
        "    print(f\"Contenido del grafo {i + 1}:\")\n",
        "    print(content.strip())  # Imprimir el contenido del archivo sin espacios adicionales\n",
        "\n",
        "    # Procesar los datos del archivo\n",
        "    lines = content.strip().split(\"\\n\")\n",
        "    vec_n_e = lines[0].split()\n",
        "    n = int(vec_n_e[0])  # número de vértices\n",
        "    e = int(vec_n_e[1])  # número de aristas\n",
        "\n",
        "    # Crear el grafo y agregar aristas\n",
        "    graph = Graph(n)\n",
        "    for line in lines[1:]:\n",
        "        aux = line.split()\n",
        "        a = int(aux[0])\n",
        "        b = int(aux[1])\n",
        "        graph.add_edge(a, b)\n",
        "\n",
        "    # Verifica si el grafo es un árbol\n",
        "    if graph.is_a_tree():\n",
        "        print(\"El grafo es un árbol.\")\n",
        "    else:\n",
        "        print(\"El grafo no es un árbol.\")\n",
        "\n",
        "    print()  # Línea en blanco entre los resultados\n"
      ],
      "metadata": {
        "colab": {
          "base_uri": "https://localhost:8080/"
        },
        "id": "g-asrm-fa32f",
        "outputId": "42a896ab-d4c7-4f3a-9581-af17f13a3fd6"
      },
      "execution_count": 8,
      "outputs": [
        {
          "output_type": "stream",
          "name": "stdout",
          "text": [
            "Contenido del grafo 1:\n",
            "8 7\n",
            "0 1\n",
            "0 2\n",
            "1 3\n",
            "1 4\n",
            "2 5\n",
            "5 6\n",
            "5 7\n",
            "El grafo es un árbol.\n",
            "\n",
            "Contenido del grafo 2:\n",
            "7 5\n",
            "0 1\n",
            "0 2\n",
            "1 3\n",
            "1 4\n",
            "5 6\n",
            "El grafo no es un árbol.\n",
            "\n",
            "Contenido del grafo 3:\n",
            "8 7\n",
            "0 1\n",
            "0 2\n",
            "1 2\n",
            "1 3\n",
            "2 3\n",
            "2 4\n",
            "5 6\n",
            "El grafo no es un árbol.\n",
            "\n"
          ]
        }
      ]
    }
  ]
}